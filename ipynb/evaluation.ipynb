{
 "cells": [
  {
   "cell_type": "code",
   "execution_count": 29,
   "metadata": {},
   "outputs": [
    {
     "name": "stdout",
     "output_type": "stream",
     "text": [
      "File_1_TaoDing_microbiome.biom\r\n",
      "File_2_TaoDing_Microbiome_taxonomy.tsv\r\n",
      "File_3_FerretMicrobiomeMetadata.xlxs.xlsx\r\n"
     ]
    }
   ],
   "source": [
    "!ls ../data"
   ]
  },
  {
   "cell_type": "code",
   "execution_count": 51,
   "metadata": {},
   "outputs": [],
   "source": [
    "import pandas as pd\n",
    "beta_means = pd.read_csv('../results/estimates/beta_means.csv', index_col=0)\n",
    "beta_stds = pd.read_csv('../results/estimates/beta_stds.csv', index_col=0)\n",
    "taxonomy = pd.read_table('../data/File_2_TaoDing_Microbiome_taxonomy.tsv', index_col=0)"
   ]
  },
  {
   "cell_type": "code",
   "execution_count": 52,
   "metadata": {},
   "outputs": [],
   "source": [
    "taxadf = pd.DataFrame(taxonomy.Taxon.apply(lambda x: x.split('; ')).values.tolist(),\n",
    "             columns=['Kingdom', 'Phylum', 'Class', 'Order', 'Family', 'Genus', 'Species'],\n",
    "             index=taxonomy.index\n",
    "            )\n",
    "taxadf = taxadf.fillna(' ')"
   ]
  },
  {
   "cell_type": "code",
   "execution_count": 53,
   "metadata": {},
   "outputs": [],
   "source": [
    "beta_means = beta_means.rename(columns={\"Intercept\": 'MeanIntercept', 'Days': 'MeanDays'})\n",
    "beta_stds = beta_stds.rename(columns={\"Intercept\": 'StdIntercept', 'Days': 'StdDays'})"
   ]
  },
  {
   "cell_type": "code",
   "execution_count": 54,
   "metadata": {},
   "outputs": [
    {
     "name": "stderr",
     "output_type": "stream",
     "text": [
      "/Users/jmorton/miniconda3/envs/qiime2-2020.2/lib/python3.6/site-packages/ipykernel_launcher.py:1: FutureWarning: Sorting because non-concatenation axis is not aligned. A future version\n",
      "of pandas will change to not sort by default.\n",
      "\n",
      "To accept the future behavior, pass 'sort=False'.\n",
      "\n",
      "To retain the current behavior and silence the warning, pass 'sort=True'.\n",
      "\n",
      "  \"\"\"Entry point for launching an IPython kernel.\n"
     ]
    }
   ],
   "source": [
    "data = pd.concat((beta_means, beta_stds, taxadf), axis=1)\n",
    "data = data.loc[beta_means.index]"
   ]
  },
  {
   "cell_type": "code",
   "execution_count": 88,
   "metadata": {},
   "outputs": [],
   "source": [
    "data = data.sort_values('MeanDays')"
   ]
  },
  {
   "cell_type": "code",
   "execution_count": 89,
   "metadata": {},
   "outputs": [
    {
     "data": {
      "text/html": [
       "<div>\n",
       "<style scoped>\n",
       "    .dataframe tbody tr th:only-of-type {\n",
       "        vertical-align: middle;\n",
       "    }\n",
       "\n",
       "    .dataframe tbody tr th {\n",
       "        vertical-align: top;\n",
       "    }\n",
       "\n",
       "    .dataframe thead th {\n",
       "        text-align: right;\n",
       "    }\n",
       "</style>\n",
       "<table border=\"1\" class=\"dataframe\">\n",
       "  <thead>\n",
       "    <tr style=\"text-align: right;\">\n",
       "      <th></th>\n",
       "      <th>MeanIntercept</th>\n",
       "      <th>MeanDays</th>\n",
       "      <th>StdIntercept</th>\n",
       "      <th>StdDays</th>\n",
       "      <th>Kingdom</th>\n",
       "      <th>Phylum</th>\n",
       "      <th>Class</th>\n",
       "      <th>Order</th>\n",
       "      <th>Family</th>\n",
       "      <th>Genus</th>\n",
       "      <th>Species</th>\n",
       "    </tr>\n",
       "  </thead>\n",
       "  <tbody>\n",
       "    <tr>\n",
       "      <th>8630154f745ba598cdab0bbc4abb4e54</th>\n",
       "      <td>-0.781197</td>\n",
       "      <td>-3.408856</td>\n",
       "      <td>3.341126</td>\n",
       "      <td>1.534966</td>\n",
       "      <td>k__Bacteria</td>\n",
       "      <td>p__Firmicutes</td>\n",
       "      <td>c__Bacilli</td>\n",
       "      <td>o__Bacillales</td>\n",
       "      <td>f__Planococcaceae</td>\n",
       "      <td>g__Chryseomicrobium</td>\n",
       "      <td>s__imtechense</td>\n",
       "    </tr>\n",
       "    <tr>\n",
       "      <th>a190c299e9757abba3f1f305f00380ec</th>\n",
       "      <td>-0.689414</td>\n",
       "      <td>-3.071658</td>\n",
       "      <td>2.929076</td>\n",
       "      <td>0.676403</td>\n",
       "      <td>k__Bacteria</td>\n",
       "      <td>p__Firmicutes</td>\n",
       "      <td>c__Clostridia</td>\n",
       "      <td>o__Clostridiales</td>\n",
       "      <td>f__Peptostreptococcaceae</td>\n",
       "      <td>g__</td>\n",
       "      <td>s__</td>\n",
       "    </tr>\n",
       "    <tr>\n",
       "      <th>f37fc1dccfeba0004cbeb4f1ad6083c6</th>\n",
       "      <td>-4.045718</td>\n",
       "      <td>-2.822834</td>\n",
       "      <td>4.482455</td>\n",
       "      <td>0.877858</td>\n",
       "      <td>k__Bacteria</td>\n",
       "      <td>p__Proteobacteria</td>\n",
       "      <td>c__Betaproteobacteria</td>\n",
       "      <td>o__Burkholderiales</td>\n",
       "      <td>f__Oxalobacteraceae</td>\n",
       "      <td>g__Janthinobacterium</td>\n",
       "      <td>s__</td>\n",
       "    </tr>\n",
       "    <tr>\n",
       "      <th>33295f1846cff2bf9c88e15798fbc91d</th>\n",
       "      <td>10.150748</td>\n",
       "      <td>-2.806904</td>\n",
       "      <td>1.334147</td>\n",
       "      <td>0.276954</td>\n",
       "      <td>k__Bacteria</td>\n",
       "      <td>p__Firmicutes</td>\n",
       "      <td>c__Bacilli</td>\n",
       "      <td>o__Bacillales</td>\n",
       "      <td>f__Bacillaceae</td>\n",
       "      <td>g__Anoxybacillus</td>\n",
       "      <td></td>\n",
       "    </tr>\n",
       "    <tr>\n",
       "      <th>f43836fb3dbc1fe9a3f95af640d01a85</th>\n",
       "      <td>-3.555254</td>\n",
       "      <td>-2.697879</td>\n",
       "      <td>3.656785</td>\n",
       "      <td>0.672368</td>\n",
       "      <td>k__Bacteria</td>\n",
       "      <td>p__Actinobacteria</td>\n",
       "      <td>c__Actinobacteria</td>\n",
       "      <td>o__Actinomycetales</td>\n",
       "      <td>f__Actinomycetaceae</td>\n",
       "      <td>g__N09</td>\n",
       "      <td>s__</td>\n",
       "    </tr>\n",
       "    <tr>\n",
       "      <th>...</th>\n",
       "      <td>...</td>\n",
       "      <td>...</td>\n",
       "      <td>...</td>\n",
       "      <td>...</td>\n",
       "      <td>...</td>\n",
       "      <td>...</td>\n",
       "      <td>...</td>\n",
       "      <td>...</td>\n",
       "      <td>...</td>\n",
       "      <td>...</td>\n",
       "      <td>...</td>\n",
       "    </tr>\n",
       "    <tr>\n",
       "      <th>1368aca6d12ec4a9bbf16a2ff67104e1</th>\n",
       "      <td>1.423934</td>\n",
       "      <td>3.133315</td>\n",
       "      <td>4.990959</td>\n",
       "      <td>1.047456</td>\n",
       "      <td>k__Bacteria</td>\n",
       "      <td>p__Actinobacteria</td>\n",
       "      <td>c__Actinobacteria</td>\n",
       "      <td>o__Actinomycetales</td>\n",
       "      <td>f__Micrococcaceae</td>\n",
       "      <td>g__Microbispora</td>\n",
       "      <td>s__rosea</td>\n",
       "    </tr>\n",
       "    <tr>\n",
       "      <th>6096ab7a207694486408f668a1344cd5</th>\n",
       "      <td>-0.438347</td>\n",
       "      <td>3.285601</td>\n",
       "      <td>3.155303</td>\n",
       "      <td>0.904143</td>\n",
       "      <td>k__Bacteria</td>\n",
       "      <td>p__Firmicutes</td>\n",
       "      <td>c__Bacilli</td>\n",
       "      <td>o__Bacillales</td>\n",
       "      <td>f__Staphylococcaceae</td>\n",
       "      <td>g__Staphylococcus</td>\n",
       "      <td></td>\n",
       "    </tr>\n",
       "    <tr>\n",
       "      <th>1214531d2f7d3a766904675cda3524e1</th>\n",
       "      <td>0.925415</td>\n",
       "      <td>4.021893</td>\n",
       "      <td>6.521729</td>\n",
       "      <td>0.655688</td>\n",
       "      <td>k__Bacteria</td>\n",
       "      <td>p__Firmicutes</td>\n",
       "      <td>c__Bacilli</td>\n",
       "      <td>o__Bacillales</td>\n",
       "      <td>f__Bacillaceae</td>\n",
       "      <td>g__</td>\n",
       "      <td>s__</td>\n",
       "    </tr>\n",
       "    <tr>\n",
       "      <th>7950b986622a877a28770aef4b4c4dd2</th>\n",
       "      <td>2.300629</td>\n",
       "      <td>4.025152</td>\n",
       "      <td>4.542247</td>\n",
       "      <td>1.204827</td>\n",
       "      <td>k__Bacteria</td>\n",
       "      <td>p__Proteobacteria</td>\n",
       "      <td>c__Gammaproteobacteria</td>\n",
       "      <td>o__Pseudomonadales</td>\n",
       "      <td>f__Pseudomonadaceae</td>\n",
       "      <td>g__Pseudomonas</td>\n",
       "      <td>s__</td>\n",
       "    </tr>\n",
       "    <tr>\n",
       "      <th>b35db66424185adf4e27c45f96b07429</th>\n",
       "      <td>0.631033</td>\n",
       "      <td>4.366436</td>\n",
       "      <td>5.187724</td>\n",
       "      <td>0.718176</td>\n",
       "      <td>k__Bacteria</td>\n",
       "      <td>p__Firmicutes</td>\n",
       "      <td>c__Bacilli</td>\n",
       "      <td>o__Bacillales</td>\n",
       "      <td>f__Planococcaceae</td>\n",
       "      <td>g__Sporosarcina</td>\n",
       "      <td>s__</td>\n",
       "    </tr>\n",
       "  </tbody>\n",
       "</table>\n",
       "<p>558 rows × 11 columns</p>\n",
       "</div>"
      ],
      "text/plain": [
       "                                  MeanIntercept  MeanDays  StdIntercept  \\\n",
       "8630154f745ba598cdab0bbc4abb4e54      -0.781197 -3.408856      3.341126   \n",
       "a190c299e9757abba3f1f305f00380ec      -0.689414 -3.071658      2.929076   \n",
       "f37fc1dccfeba0004cbeb4f1ad6083c6      -4.045718 -2.822834      4.482455   \n",
       "33295f1846cff2bf9c88e15798fbc91d      10.150748 -2.806904      1.334147   \n",
       "f43836fb3dbc1fe9a3f95af640d01a85      -3.555254 -2.697879      3.656785   \n",
       "...                                         ...       ...           ...   \n",
       "1368aca6d12ec4a9bbf16a2ff67104e1       1.423934  3.133315      4.990959   \n",
       "6096ab7a207694486408f668a1344cd5      -0.438347  3.285601      3.155303   \n",
       "1214531d2f7d3a766904675cda3524e1       0.925415  4.021893      6.521729   \n",
       "7950b986622a877a28770aef4b4c4dd2       2.300629  4.025152      4.542247   \n",
       "b35db66424185adf4e27c45f96b07429       0.631033  4.366436      5.187724   \n",
       "\n",
       "                                   StdDays      Kingdom             Phylum  \\\n",
       "8630154f745ba598cdab0bbc4abb4e54  1.534966  k__Bacteria      p__Firmicutes   \n",
       "a190c299e9757abba3f1f305f00380ec  0.676403  k__Bacteria      p__Firmicutes   \n",
       "f37fc1dccfeba0004cbeb4f1ad6083c6  0.877858  k__Bacteria  p__Proteobacteria   \n",
       "33295f1846cff2bf9c88e15798fbc91d  0.276954  k__Bacteria      p__Firmicutes   \n",
       "f43836fb3dbc1fe9a3f95af640d01a85  0.672368  k__Bacteria  p__Actinobacteria   \n",
       "...                                    ...          ...                ...   \n",
       "1368aca6d12ec4a9bbf16a2ff67104e1  1.047456  k__Bacteria  p__Actinobacteria   \n",
       "6096ab7a207694486408f668a1344cd5  0.904143  k__Bacteria      p__Firmicutes   \n",
       "1214531d2f7d3a766904675cda3524e1  0.655688  k__Bacteria      p__Firmicutes   \n",
       "7950b986622a877a28770aef4b4c4dd2  1.204827  k__Bacteria  p__Proteobacteria   \n",
       "b35db66424185adf4e27c45f96b07429  0.718176  k__Bacteria      p__Firmicutes   \n",
       "\n",
       "                                                   Class               Order  \\\n",
       "8630154f745ba598cdab0bbc4abb4e54              c__Bacilli       o__Bacillales   \n",
       "a190c299e9757abba3f1f305f00380ec           c__Clostridia    o__Clostridiales   \n",
       "f37fc1dccfeba0004cbeb4f1ad6083c6   c__Betaproteobacteria  o__Burkholderiales   \n",
       "33295f1846cff2bf9c88e15798fbc91d              c__Bacilli       o__Bacillales   \n",
       "f43836fb3dbc1fe9a3f95af640d01a85       c__Actinobacteria  o__Actinomycetales   \n",
       "...                                                  ...                 ...   \n",
       "1368aca6d12ec4a9bbf16a2ff67104e1       c__Actinobacteria  o__Actinomycetales   \n",
       "6096ab7a207694486408f668a1344cd5              c__Bacilli       o__Bacillales   \n",
       "1214531d2f7d3a766904675cda3524e1              c__Bacilli       o__Bacillales   \n",
       "7950b986622a877a28770aef4b4c4dd2  c__Gammaproteobacteria  o__Pseudomonadales   \n",
       "b35db66424185adf4e27c45f96b07429              c__Bacilli       o__Bacillales   \n",
       "\n",
       "                                                    Family  \\\n",
       "8630154f745ba598cdab0bbc4abb4e54         f__Planococcaceae   \n",
       "a190c299e9757abba3f1f305f00380ec  f__Peptostreptococcaceae   \n",
       "f37fc1dccfeba0004cbeb4f1ad6083c6       f__Oxalobacteraceae   \n",
       "33295f1846cff2bf9c88e15798fbc91d            f__Bacillaceae   \n",
       "f43836fb3dbc1fe9a3f95af640d01a85       f__Actinomycetaceae   \n",
       "...                                                    ...   \n",
       "1368aca6d12ec4a9bbf16a2ff67104e1         f__Micrococcaceae   \n",
       "6096ab7a207694486408f668a1344cd5      f__Staphylococcaceae   \n",
       "1214531d2f7d3a766904675cda3524e1            f__Bacillaceae   \n",
       "7950b986622a877a28770aef4b4c4dd2       f__Pseudomonadaceae   \n",
       "b35db66424185adf4e27c45f96b07429         f__Planococcaceae   \n",
       "\n",
       "                                                 Genus        Species  \n",
       "8630154f745ba598cdab0bbc4abb4e54   g__Chryseomicrobium  s__imtechense  \n",
       "a190c299e9757abba3f1f305f00380ec                   g__            s__  \n",
       "f37fc1dccfeba0004cbeb4f1ad6083c6  g__Janthinobacterium            s__  \n",
       "33295f1846cff2bf9c88e15798fbc91d      g__Anoxybacillus                 \n",
       "f43836fb3dbc1fe9a3f95af640d01a85                g__N09            s__  \n",
       "...                                                ...            ...  \n",
       "1368aca6d12ec4a9bbf16a2ff67104e1       g__Microbispora       s__rosea  \n",
       "6096ab7a207694486408f668a1344cd5     g__Staphylococcus                 \n",
       "1214531d2f7d3a766904675cda3524e1                   g__            s__  \n",
       "7950b986622a877a28770aef4b4c4dd2        g__Pseudomonas            s__  \n",
       "b35db66424185adf4e27c45f96b07429       g__Sporosarcina            s__  \n",
       "\n",
       "[558 rows x 11 columns]"
      ]
     },
     "execution_count": 89,
     "metadata": {},
     "output_type": "execute_result"
    }
   ],
   "source": [
    "data"
   ]
  },
  {
   "cell_type": "code",
   "execution_count": 67,
   "metadata": {},
   "outputs": [
    {
     "data": {
      "text/plain": [
       "Text(0, 0.5, 'Log fold change over Days')"
      ]
     },
     "execution_count": 67,
     "metadata": {},
     "output_type": "execute_result"
    },
    {
     "data": {
      "image/png": "[encoded data removed]",
      "text/plain": [
       "<Figure size 432x288 with 1 Axes>"
      ]
     },
     "metadata": {
      "needs_background": "light"
     },
     "output_type": "display_data"
    }
   ],
   "source": [
    "import matplotlib.pyplot as plt\n",
    "import numpy as np\n",
    "%matplotlib inline\n",
    "\n",
    "    \n",
    "x = np.arange(len(data.MeanDays.values))\n",
    "y = data.MeanDays.values\n",
    "yerr = data.StdDays.values\n",
    "plt.errorbar(x, y, yerr=yerr)\n",
    "plt.xticks([])\n",
    "plt.ylabel('Log fold change over Days')"
   ]
  },
  {
   "cell_type": "code",
   "execution_count": 78,
   "metadata": {},
   "outputs": [
    {
     "data": {
      "text/plain": [
       "p__Firmicutes        226\n",
       "p__Proteobacteria    180\n",
       "p__Actinobacteria     64\n",
       "p__Bacteroidetes      52\n",
       "p__Fusobacteria       16\n",
       "p__Cyanobacteria       9\n",
       "p__Tenericutes         6\n",
       "p__[Thermi]            4\n",
       "p__Fibrobacteres       1\n",
       "Name: Phylum, dtype: int64"
      ]
     },
     "execution_count": 78,
     "metadata": {},
     "output_type": "execute_result"
    }
   ],
   "source": [
    "data.Phylum.value_counts()"
   ]
  },
  {
   "cell_type": "code",
   "execution_count": 85,
   "metadata": {},
   "outputs": [
    {
     "data": {
      "text/plain": [
       "((226,), (226,))"
      ]
     },
     "execution_count": 85,
     "metadata": {},
     "output_type": "execute_result"
    }
   ],
   "source": [
    "x[phylum == data.Phylum].shape, y.shape"
   ]
  },
  {
   "cell_type": "code",
   "execution_count": 90,
   "metadata": {},
   "outputs": [
    {
     "data": {
      "image/png": "[encoded data removed]",
      "text/plain": [
       "<Figure size 432x288 with 1 Axes>"
      ]
     },
     "metadata": {
      "needs_background": "light"
     },
     "output_type": "display_data"
    }
   ],
   "source": [
    "x = np.arange(len(data.MeanDays.values))\n",
    "for phylum in data.Phylum.value_counts().index[:4]:\n",
    "    idx = phylum == data.Phylum\n",
    "    y = data.loc[idx, 'MeanDays'].values\n",
    "    yerr = data.StdDays.values[idx]    \n",
    "    plt.errorbar(x[idx], y, yerr=yerr, label=phylum)\n",
    "    \n",
    "plt.xticks([])\n",
    "plt.ylabel('Log fold change over Days')\n",
    "plt.legend()\n",
    "plt.savefig('../figures/day_fold_change.png')"
   ]
  },
  {
   "cell_type": "code",
   "execution_count": null,
   "metadata": {},
   "outputs": [],
   "source": [
    "data.to_csv('../results/day_fold_change.csv')"
   ]
  },
  {
   "cell_type": "code",
   "execution_count": null,
   "metadata": {},
   "outputs": [],
   "source": []
  }
 ],
 "metadata": {
  "kernelspec": {
   "display_name": "Python 3",
   "language": "python",
   "name": "python3"
  },
  "language_info": {
   "codemirror_mode": {
    "name": "ipython",
    "version": 3
   },
   "file_extension": ".py",
   "mimetype": "text/x-python",
   "name": "python",
   "nbconvert_exporter": "python",
   "pygments_lexer": "ipython3",
   "version": "3.6.7"
  }
 },
 "nbformat": 4,
 "nbformat_minor": 4
}
